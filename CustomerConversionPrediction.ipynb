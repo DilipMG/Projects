{
 "cells": [
  {
   "cell_type": "markdown",
   "id": "9ece00db",
   "metadata": {},
   "source": [
    "# Problem Statement\n",
    "\n",
    "### You are working for a new-age insurance company and employ mutiple outreach plans to sell term insurance to your customers. Telephonic marketing campaigns still remain one of the most effective way to reach out to people however they incur a lot of cost. Hence, it is important to identify the customers that are most likely to convert beforehand so that they can be specifically targeted via call. We are given the historical marketing data of the insurance company and are required to build a ML model that will predict if a client will subscribe to the insurance. \n"
   ]
  },
  {
   "cell_type": "markdown",
   "id": "d5f7b571",
   "metadata": {},
   "source": [
    "# Identifing the customers that are most likely to buy Insurance, so that they can be specifically targeted via call"
   ]
  },
  {
   "cell_type": "code",
   "execution_count": 1,
   "id": "03f2f712",
   "metadata": {},
   "outputs": [],
   "source": [
    "import pandas as pd\n",
    "import numpy as np\n",
    "import warnings\n",
    "warnings.filterwarnings('ignore')"
   ]
  },
  {
   "cell_type": "code",
   "execution_count": 2,
   "id": "64524e28",
   "metadata": {},
   "outputs": [
    {
     "data": {
      "text/html": [
       "<div>\n",
       "<style scoped>\n",
       "    .dataframe tbody tr th:only-of-type {\n",
       "        vertical-align: middle;\n",
       "    }\n",
       "\n",
       "    .dataframe tbody tr th {\n",
       "        vertical-align: top;\n",
       "    }\n",
       "\n",
       "    .dataframe thead th {\n",
       "        text-align: right;\n",
       "    }\n",
       "</style>\n",
       "<table border=\"1\" class=\"dataframe\">\n",
       "  <thead>\n",
       "    <tr style=\"text-align: right;\">\n",
       "      <th></th>\n",
       "      <th>age</th>\n",
       "      <th>job</th>\n",
       "      <th>marital</th>\n",
       "      <th>education_qual</th>\n",
       "      <th>call_type</th>\n",
       "      <th>day</th>\n",
       "      <th>mon</th>\n",
       "      <th>dur</th>\n",
       "      <th>num_calls</th>\n",
       "      <th>prev_outcome</th>\n",
       "      <th>y</th>\n",
       "    </tr>\n",
       "  </thead>\n",
       "  <tbody>\n",
       "    <tr>\n",
       "      <th>0</th>\n",
       "      <td>58</td>\n",
       "      <td>management</td>\n",
       "      <td>married</td>\n",
       "      <td>tertiary</td>\n",
       "      <td>unknown</td>\n",
       "      <td>5</td>\n",
       "      <td>may</td>\n",
       "      <td>261</td>\n",
       "      <td>1</td>\n",
       "      <td>unknown</td>\n",
       "      <td>no</td>\n",
       "    </tr>\n",
       "    <tr>\n",
       "      <th>1</th>\n",
       "      <td>44</td>\n",
       "      <td>technician</td>\n",
       "      <td>single</td>\n",
       "      <td>secondary</td>\n",
       "      <td>unknown</td>\n",
       "      <td>5</td>\n",
       "      <td>may</td>\n",
       "      <td>151</td>\n",
       "      <td>1</td>\n",
       "      <td>unknown</td>\n",
       "      <td>no</td>\n",
       "    </tr>\n",
       "    <tr>\n",
       "      <th>2</th>\n",
       "      <td>33</td>\n",
       "      <td>entrepreneur</td>\n",
       "      <td>married</td>\n",
       "      <td>secondary</td>\n",
       "      <td>unknown</td>\n",
       "      <td>5</td>\n",
       "      <td>may</td>\n",
       "      <td>76</td>\n",
       "      <td>1</td>\n",
       "      <td>unknown</td>\n",
       "      <td>no</td>\n",
       "    </tr>\n",
       "    <tr>\n",
       "      <th>3</th>\n",
       "      <td>47</td>\n",
       "      <td>blue-collar</td>\n",
       "      <td>married</td>\n",
       "      <td>unknown</td>\n",
       "      <td>unknown</td>\n",
       "      <td>5</td>\n",
       "      <td>may</td>\n",
       "      <td>92</td>\n",
       "      <td>1</td>\n",
       "      <td>unknown</td>\n",
       "      <td>no</td>\n",
       "    </tr>\n",
       "    <tr>\n",
       "      <th>4</th>\n",
       "      <td>33</td>\n",
       "      <td>unknown</td>\n",
       "      <td>single</td>\n",
       "      <td>unknown</td>\n",
       "      <td>unknown</td>\n",
       "      <td>5</td>\n",
       "      <td>may</td>\n",
       "      <td>198</td>\n",
       "      <td>1</td>\n",
       "      <td>unknown</td>\n",
       "      <td>no</td>\n",
       "    </tr>\n",
       "  </tbody>\n",
       "</table>\n",
       "</div>"
      ],
      "text/plain": [
       "   age           job  marital education_qual call_type  day  mon  dur  \\\n",
       "0   58    management  married       tertiary   unknown    5  may  261   \n",
       "1   44    technician   single      secondary   unknown    5  may  151   \n",
       "2   33  entrepreneur  married      secondary   unknown    5  may   76   \n",
       "3   47   blue-collar  married        unknown   unknown    5  may   92   \n",
       "4   33       unknown   single        unknown   unknown    5  may  198   \n",
       "\n",
       "   num_calls prev_outcome   y  \n",
       "0          1      unknown  no  \n",
       "1          1      unknown  no  \n",
       "2          1      unknown  no  \n",
       "3          1      unknown  no  \n",
       "4          1      unknown  no  "
      ]
     },
     "execution_count": 2,
     "metadata": {},
     "output_type": "execute_result"
    }
   ],
   "source": [
    "data=pd.read_csv('CustomersData.csv')\n",
    "data.head()"
   ]
  },
  {
   "cell_type": "code",
   "execution_count": 3,
   "id": "8e62d7de",
   "metadata": {},
   "outputs": [
    {
     "data": {
      "text/plain": [
       "(45211, 11)"
      ]
     },
     "execution_count": 3,
     "metadata": {},
     "output_type": "execute_result"
    }
   ],
   "source": [
    "data.shape"
   ]
  },
  {
   "cell_type": "code",
   "execution_count": 4,
   "id": "115b12e4",
   "metadata": {},
   "outputs": [
    {
     "name": "stdout",
     "output_type": "stream",
     "text": [
      "Index(['age', 'job', 'marital', 'education_qual', 'call_type', 'day', 'mon',\n",
      "       'dur', 'num_calls', 'prev_outcome', 'y'],\n",
      "      dtype='object')\n"
     ]
    }
   ],
   "source": [
    "print(data.columns)"
   ]
  },
  {
   "cell_type": "markdown",
   "id": "03b237f6",
   "metadata": {},
   "source": [
    "## 1. Data types Checking and Removing Duplicates"
   ]
  },
  {
   "cell_type": "code",
   "execution_count": 5,
   "id": "786b69f2",
   "metadata": {},
   "outputs": [
    {
     "name": "stdout",
     "output_type": "stream",
     "text": [
      "<class 'pandas.core.frame.DataFrame'>\n",
      "RangeIndex: 45211 entries, 0 to 45210\n",
      "Data columns (total 11 columns):\n",
      " #   Column          Non-Null Count  Dtype \n",
      "---  ------          --------------  ----- \n",
      " 0   age             45211 non-null  int64 \n",
      " 1   job             45211 non-null  object\n",
      " 2   marital         45211 non-null  object\n",
      " 3   education_qual  45211 non-null  object\n",
      " 4   call_type       45211 non-null  object\n",
      " 5   day             45211 non-null  int64 \n",
      " 6   mon             45211 non-null  object\n",
      " 7   dur             45211 non-null  int64 \n",
      " 8   num_calls       45211 non-null  int64 \n",
      " 9   prev_outcome    45211 non-null  object\n",
      " 10  y               45211 non-null  object\n",
      "dtypes: int64(4), object(7)\n",
      "memory usage: 3.8+ MB\n"
     ]
    }
   ],
   "source": [
    "data.info()"
   ]
  },
  {
   "cell_type": "markdown",
   "id": "471df3ca",
   "metadata": {},
   "source": [
    "**All the features are in right format. So no need to type cast any feature.**"
   ]
  },
  {
   "cell_type": "code",
   "execution_count": 6,
   "id": "f2759f8c",
   "metadata": {},
   "outputs": [
    {
     "data": {
      "text/plain": [
       "6"
      ]
     },
     "execution_count": 6,
     "metadata": {},
     "output_type": "execute_result"
    }
   ],
   "source": [
    "data.duplicated().sum()"
   ]
  },
  {
   "cell_type": "markdown",
   "id": "42a96e67",
   "metadata": {},
   "source": [
    "**There are 6 duplicates. Hence dropping all 6 duplicates from the dataset.**"
   ]
  },
  {
   "cell_type": "code",
   "execution_count": 7,
   "id": "2875fea4",
   "metadata": {},
   "outputs": [
    {
     "data": {
      "text/html": [
       "<div>\n",
       "<style scoped>\n",
       "    .dataframe tbody tr th:only-of-type {\n",
       "        vertical-align: middle;\n",
       "    }\n",
       "\n",
       "    .dataframe tbody tr th {\n",
       "        vertical-align: top;\n",
       "    }\n",
       "\n",
       "    .dataframe thead th {\n",
       "        text-align: right;\n",
       "    }\n",
       "</style>\n",
       "<table border=\"1\" class=\"dataframe\">\n",
       "  <thead>\n",
       "    <tr style=\"text-align: right;\">\n",
       "      <th></th>\n",
       "      <th>age</th>\n",
       "      <th>job</th>\n",
       "      <th>marital</th>\n",
       "      <th>education_qual</th>\n",
       "      <th>call_type</th>\n",
       "      <th>day</th>\n",
       "      <th>mon</th>\n",
       "      <th>dur</th>\n",
       "      <th>num_calls</th>\n",
       "      <th>prev_outcome</th>\n",
       "      <th>y</th>\n",
       "    </tr>\n",
       "  </thead>\n",
       "  <tbody>\n",
       "    <tr>\n",
       "      <th>0</th>\n",
       "      <td>58</td>\n",
       "      <td>management</td>\n",
       "      <td>married</td>\n",
       "      <td>tertiary</td>\n",
       "      <td>unknown</td>\n",
       "      <td>5</td>\n",
       "      <td>may</td>\n",
       "      <td>261</td>\n",
       "      <td>1</td>\n",
       "      <td>unknown</td>\n",
       "      <td>no</td>\n",
       "    </tr>\n",
       "    <tr>\n",
       "      <th>1</th>\n",
       "      <td>44</td>\n",
       "      <td>technician</td>\n",
       "      <td>single</td>\n",
       "      <td>secondary</td>\n",
       "      <td>unknown</td>\n",
       "      <td>5</td>\n",
       "      <td>may</td>\n",
       "      <td>151</td>\n",
       "      <td>1</td>\n",
       "      <td>unknown</td>\n",
       "      <td>no</td>\n",
       "    </tr>\n",
       "    <tr>\n",
       "      <th>2</th>\n",
       "      <td>33</td>\n",
       "      <td>entrepreneur</td>\n",
       "      <td>married</td>\n",
       "      <td>secondary</td>\n",
       "      <td>unknown</td>\n",
       "      <td>5</td>\n",
       "      <td>may</td>\n",
       "      <td>76</td>\n",
       "      <td>1</td>\n",
       "      <td>unknown</td>\n",
       "      <td>no</td>\n",
       "    </tr>\n",
       "    <tr>\n",
       "      <th>3</th>\n",
       "      <td>47</td>\n",
       "      <td>blue-collar</td>\n",
       "      <td>married</td>\n",
       "      <td>unknown</td>\n",
       "      <td>unknown</td>\n",
       "      <td>5</td>\n",
       "      <td>may</td>\n",
       "      <td>92</td>\n",
       "      <td>1</td>\n",
       "      <td>unknown</td>\n",
       "      <td>no</td>\n",
       "    </tr>\n",
       "    <tr>\n",
       "      <th>4</th>\n",
       "      <td>33</td>\n",
       "      <td>unknown</td>\n",
       "      <td>single</td>\n",
       "      <td>unknown</td>\n",
       "      <td>unknown</td>\n",
       "      <td>5</td>\n",
       "      <td>may</td>\n",
       "      <td>198</td>\n",
       "      <td>1</td>\n",
       "      <td>unknown</td>\n",
       "      <td>no</td>\n",
       "    </tr>\n",
       "    <tr>\n",
       "      <th>...</th>\n",
       "      <td>...</td>\n",
       "      <td>...</td>\n",
       "      <td>...</td>\n",
       "      <td>...</td>\n",
       "      <td>...</td>\n",
       "      <td>...</td>\n",
       "      <td>...</td>\n",
       "      <td>...</td>\n",
       "      <td>...</td>\n",
       "      <td>...</td>\n",
       "      <td>...</td>\n",
       "    </tr>\n",
       "    <tr>\n",
       "      <th>45206</th>\n",
       "      <td>51</td>\n",
       "      <td>technician</td>\n",
       "      <td>married</td>\n",
       "      <td>tertiary</td>\n",
       "      <td>cellular</td>\n",
       "      <td>17</td>\n",
       "      <td>nov</td>\n",
       "      <td>977</td>\n",
       "      <td>3</td>\n",
       "      <td>unknown</td>\n",
       "      <td>yes</td>\n",
       "    </tr>\n",
       "    <tr>\n",
       "      <th>45207</th>\n",
       "      <td>71</td>\n",
       "      <td>retired</td>\n",
       "      <td>divorced</td>\n",
       "      <td>primary</td>\n",
       "      <td>cellular</td>\n",
       "      <td>17</td>\n",
       "      <td>nov</td>\n",
       "      <td>456</td>\n",
       "      <td>2</td>\n",
       "      <td>unknown</td>\n",
       "      <td>yes</td>\n",
       "    </tr>\n",
       "    <tr>\n",
       "      <th>45208</th>\n",
       "      <td>72</td>\n",
       "      <td>retired</td>\n",
       "      <td>married</td>\n",
       "      <td>secondary</td>\n",
       "      <td>cellular</td>\n",
       "      <td>17</td>\n",
       "      <td>nov</td>\n",
       "      <td>1127</td>\n",
       "      <td>5</td>\n",
       "      <td>success</td>\n",
       "      <td>yes</td>\n",
       "    </tr>\n",
       "    <tr>\n",
       "      <th>45209</th>\n",
       "      <td>57</td>\n",
       "      <td>blue-collar</td>\n",
       "      <td>married</td>\n",
       "      <td>secondary</td>\n",
       "      <td>telephone</td>\n",
       "      <td>17</td>\n",
       "      <td>nov</td>\n",
       "      <td>508</td>\n",
       "      <td>4</td>\n",
       "      <td>unknown</td>\n",
       "      <td>no</td>\n",
       "    </tr>\n",
       "    <tr>\n",
       "      <th>45210</th>\n",
       "      <td>37</td>\n",
       "      <td>entrepreneur</td>\n",
       "      <td>married</td>\n",
       "      <td>secondary</td>\n",
       "      <td>cellular</td>\n",
       "      <td>17</td>\n",
       "      <td>nov</td>\n",
       "      <td>361</td>\n",
       "      <td>2</td>\n",
       "      <td>other</td>\n",
       "      <td>no</td>\n",
       "    </tr>\n",
       "  </tbody>\n",
       "</table>\n",
       "<p>45205 rows × 11 columns</p>\n",
       "</div>"
      ],
      "text/plain": [
       "       age           job   marital education_qual  call_type  day  mon   dur  \\\n",
       "0       58    management   married       tertiary    unknown    5  may   261   \n",
       "1       44    technician    single      secondary    unknown    5  may   151   \n",
       "2       33  entrepreneur   married      secondary    unknown    5  may    76   \n",
       "3       47   blue-collar   married        unknown    unknown    5  may    92   \n",
       "4       33       unknown    single        unknown    unknown    5  may   198   \n",
       "...    ...           ...       ...            ...        ...  ...  ...   ...   \n",
       "45206   51    technician   married       tertiary   cellular   17  nov   977   \n",
       "45207   71       retired  divorced        primary   cellular   17  nov   456   \n",
       "45208   72       retired   married      secondary   cellular   17  nov  1127   \n",
       "45209   57   blue-collar   married      secondary  telephone   17  nov   508   \n",
       "45210   37  entrepreneur   married      secondary   cellular   17  nov   361   \n",
       "\n",
       "       num_calls prev_outcome    y  \n",
       "0              1      unknown   no  \n",
       "1              1      unknown   no  \n",
       "2              1      unknown   no  \n",
       "3              1      unknown   no  \n",
       "4              1      unknown   no  \n",
       "...          ...          ...  ...  \n",
       "45206          3      unknown  yes  \n",
       "45207          2      unknown  yes  \n",
       "45208          5      success  yes  \n",
       "45209          4      unknown   no  \n",
       "45210          2        other   no  \n",
       "\n",
       "[45205 rows x 11 columns]"
      ]
     },
     "execution_count": 7,
     "metadata": {},
     "output_type": "execute_result"
    }
   ],
   "source": [
    "data.drop_duplicates()"
   ]
  },
  {
   "cell_type": "markdown",
   "id": "96598348",
   "metadata": {},
   "source": [
    "# Visualization "
   ]
  },
  {
   "cell_type": "code",
   "execution_count": 8,
   "id": "7539ce96",
   "metadata": {},
   "outputs": [
    {
     "data": {
      "text/plain": [
       "age                int64\n",
       "job               object\n",
       "marital           object\n",
       "education_qual    object\n",
       "call_type         object\n",
       "day                int64\n",
       "mon               object\n",
       "dur                int64\n",
       "num_calls          int64\n",
       "prev_outcome      object\n",
       "y                 object\n",
       "dtype: object"
      ]
     },
     "execution_count": 8,
     "metadata": {},
     "output_type": "execute_result"
    }
   ],
   "source": [
    "data.dtypes"
   ]
  },
  {
   "cell_type": "code",
   "execution_count": 9,
   "id": "42ecf790",
   "metadata": {},
   "outputs": [],
   "source": [
    "import matplotlib.pyplot as plt\n",
    "import seaborn as sns"
   ]
  },
  {
   "cell_type": "code",
   "execution_count": 10,
   "id": "57d1d8bc",
   "metadata": {},
   "outputs": [],
   "source": [
    "cat_var = [col for col in data.columns if data[col].dtype == 'object' ]\n",
    "num_var = [col for col in data.columns if data[col].dtype != 'object']"
   ]
  },
  {
   "cell_type": "code",
   "execution_count": 11,
   "id": "d72a2c99",
   "metadata": {},
   "outputs": [
    {
     "data": {
      "image/png": "[encoded data removed]",
      "text/plain": [
       "<Figure size 2000x400 with 1 Axes>"
      ]
     },
     "metadata": {},
     "output_type": "display_data"
    },
    {
     "data": {
      "image/png": "[encoded data removed]",
      "text/plain": [
       "<Figure size 2000x400 with 1 Axes>"
      ]
     },
     "metadata": {},
     "output_type": "display_data"
    },
    {
     "data": {
      "image/png": "[encoded data removed]",
      "text/plain": [
       "<Figure size 2000x400 with 1 Axes>"
      ]
     },
     "metadata": {},
     "output_type": "display_data"
    },
    {
     "data": {
      "image/png": "[encoded data removed]",
      "text/plain": [
       "<Figure size 2000x400 with 1 Axes>"
      ]
     },
     "metadata": {},
     "output_type": "display_data"
    },
    {
     "data": {
      "image/png": "[encoded data removed]",
      "text/plain": [
       "<Figure size 2000x400 with 1 Axes>"
      ]
     },
     "metadata": {},
     "output_type": "display_data"
    },
    {
     "data": {
      "image/png": "[encoded data removed]",
      "text/plain": [
       "<Figure size 2000x400 with 1 Axes>"
      ]
     },
     "metadata": {},
     "output_type": "display_data"
    },
    {
     "data": {
      "image/png": "[encoded data removed]",
      "text/plain": [
       "<Figure size 2000x400 with 1 Axes>"
      ]
     },
     "metadata": {},
     "output_type": "display_data"
    }
   ],
   "source": [
    "for col in cat_var:\n",
    "    plt.figure(figsize=(20,4))\n",
    "    ax = plt.subplot(121)\n",
    "    data[col].value_counts(normalize=True).plot(kind=\"bar\")"
   ]
  },
  {
   "cell_type": "markdown",
   "id": "82744d27",
   "metadata": {},
   "source": [
    "**Observations :**\n",
    "\n",
    "**The top three professions of available customers are blue-collar,Management and technicians.**\n",
    "\n",
    "**A huge number of the customers are married.**\n",
    "\n",
    "**Cellular type is most used by customers.**\n",
    "\n",
    "**Many customers have been contacted in the month of May.**\n",
    "\n",
    "**Not many customers are converted previously**\n",
    "\n",
    "**Most of customers are belong to secondary education qualification**\n",
    "\n",
    "**As seen from the Target plot. The data/target is imbalance and not evenly distributed.**"
   ]
  },
  {
   "cell_type": "code",
   "execution_count": 12,
   "id": "49e56397",
   "metadata": {},
   "outputs": [
    {
     "data": {
      "image/png": "[encoded data removed]",
      "text/plain": [
       "<Figure size 2000x300 with 1 Axes>"
      ]
     },
     "metadata": {},
     "output_type": "display_data"
    },
    {
     "data": {
      "image/png": "[encoded data removed]",
      "text/plain": [
       "<Figure size 2000x300 with 1 Axes>"
      ]
     },
     "metadata": {},
     "output_type": "display_data"
    },
    {
     "data": {
      "image/png": "[encoded data removed]",
      "text/plain": [
       "<Figure size 2000x300 with 1 Axes>"
      ]
     },
     "metadata": {},
     "output_type": "display_data"
    },
    {
     "data": {
      "image/png": "[encoded data removed]",
      "text/plain": [
       "<Figure size 2000x300 with 1 Axes>"
      ]
     },
     "metadata": {},
     "output_type": "display_data"
    }
   ],
   "source": [
    "for col in num_var:\n",
    "    plt.figure(figsize=(20,3))\n",
    "    plt.subplot(121)\n",
    "    sns.distplot(data[col], kde=True)\n",
    "    plt.title(col)"
   ]
  },
  {
   "cell_type": "markdown",
   "id": "8b339ab4",
   "metadata": {},
   "source": [
    "**Observation from the Numerical features is that, both dur and num_calls are left skewed due to the presence of Outliers.**\n",
    "**This needs to be cleaned during Data Cleaning Process**"
   ]
  },
  {
   "cell_type": "markdown",
   "id": "648acfdb",
   "metadata": {},
   "source": [
    "## 3. Data Cleanining - Checking each column one by one and performing below operations. \n",
    "\n",
    "#### > Checking if any Null values.\n",
    "#### > Checking if any unknown value in the features. \n",
    "#### > Checking if any Outliers. "
   ]
  },
  {
   "cell_type": "markdown",
   "id": "d2381fcf",
   "metadata": {},
   "source": [
    "### Age"
   ]
  },
  {
   "cell_type": "code",
   "execution_count": 13,
   "id": "f9fde38d",
   "metadata": {},
   "outputs": [
    {
     "data": {
      "text/plain": [
       "0"
      ]
     },
     "execution_count": 13,
     "metadata": {},
     "output_type": "execute_result"
    }
   ],
   "source": [
    "data.age.isnull().sum()"
   ]
  },
  {
   "cell_type": "code",
   "execution_count": 14,
   "id": "d18f05d0",
   "metadata": {},
   "outputs": [
    {
     "data": {
      "text/plain": [
       "0        58\n",
       "1        44\n",
       "2        33\n",
       "3        47\n",
       "4        33\n",
       "         ..\n",
       "45206    51\n",
       "45207    71\n",
       "45208    72\n",
       "45209    57\n",
       "45210    37\n",
       "Name: age, Length: 45211, dtype: int64"
      ]
     },
     "execution_count": 14,
     "metadata": {},
     "output_type": "execute_result"
    }
   ],
   "source": [
    "data.age"
   ]
  },
  {
   "cell_type": "code",
   "execution_count": 15,
   "id": "42aeac9b",
   "metadata": {},
   "outputs": [
    {
     "data": {
      "text/plain": [
       "count    45211.000000\n",
       "mean        40.936210\n",
       "std         10.618762\n",
       "min         18.000000\n",
       "25%         33.000000\n",
       "50%         39.000000\n",
       "75%         48.000000\n",
       "max         95.000000\n",
       "Name: age, dtype: float64"
      ]
     },
     "execution_count": 15,
     "metadata": {},
     "output_type": "execute_result"
    }
   ],
   "source": [
    "data['age'].describe()"
   ]
  },
  {
   "cell_type": "markdown",
   "id": "8b678367",
   "metadata": {},
   "source": [
    "**Min age is 18 and max age is 98. No outliers here. Also as seen above there are no null values too. This features is fine.**"
   ]
  },
  {
   "cell_type": "markdown",
   "id": "eacf345e",
   "metadata": {},
   "source": [
    "### Job"
   ]
  },
  {
   "cell_type": "code",
   "execution_count": 16,
   "id": "ba27dc34",
   "metadata": {},
   "outputs": [
    {
     "data": {
      "text/plain": [
       "0"
      ]
     },
     "execution_count": 16,
     "metadata": {},
     "output_type": "execute_result"
    }
   ],
   "source": [
    "data.job.isnull().sum()"
   ]
  },
  {
   "cell_type": "markdown",
   "id": "5a651e1d",
   "metadata": {},
   "source": [
    "**There are no null values.**"
   ]
  },
  {
   "cell_type": "code",
   "execution_count": 17,
   "id": "80429fbb",
   "metadata": {},
   "outputs": [
    {
     "data": {
      "text/plain": [
       "array(['management', 'technician', 'entrepreneur', 'blue-collar',\n",
       "       'unknown', 'retired', 'admin.', 'services', 'self-employed',\n",
       "       'unemployed', 'housemaid', 'student'], dtype=object)"
      ]
     },
     "execution_count": 17,
     "metadata": {},
     "output_type": "execute_result"
    }
   ],
   "source": [
    "data.job.unique()"
   ]
  },
  {
   "cell_type": "code",
   "execution_count": 18,
   "id": "4acf241f",
   "metadata": {},
   "outputs": [
    {
     "data": {
      "text/plain": [
       "job\n",
       "admin.           5171\n",
       "blue-collar      9732\n",
       "entrepreneur     1487\n",
       "housemaid        1240\n",
       "management       9458\n",
       "retired          2264\n",
       "self-employed    1579\n",
       "services         4154\n",
       "student           938\n",
       "technician       7597\n",
       "unemployed       1303\n",
       "unknown           288\n",
       "dtype: int64"
      ]
     },
     "execution_count": 18,
     "metadata": {},
     "output_type": "execute_result"
    }
   ],
   "source": [
    "data.pivot_table(index=['job'],aggfunc='size')"
   ]
  },
  {
   "cell_type": "markdown",
   "id": "1e857d8a",
   "metadata": {},
   "source": [
    "**There are 288 unknown job status. Replacing them to be treated as unemployed.**"
   ]
  },
  {
   "cell_type": "code",
   "execution_count": 19,
   "id": "7e3a31e6",
   "metadata": {},
   "outputs": [],
   "source": [
    "data.job=data.job.replace({'unknown':'unemployed'})"
   ]
  },
  {
   "cell_type": "code",
   "execution_count": 20,
   "id": "f228dd63",
   "metadata": {},
   "outputs": [
    {
     "data": {
      "text/plain": [
       "job\n",
       "admin.           5171\n",
       "blue-collar      9732\n",
       "entrepreneur     1487\n",
       "housemaid        1240\n",
       "management       9458\n",
       "retired          2264\n",
       "self-employed    1579\n",
       "services         4154\n",
       "student           938\n",
       "technician       7597\n",
       "unemployed       1591\n",
       "dtype: int64"
      ]
     },
     "execution_count": 20,
     "metadata": {},
     "output_type": "execute_result"
    }
   ],
   "source": [
    "data.pivot_table(index=['job'],aggfunc='size')"
   ]
  },
  {
   "cell_type": "markdown",
   "id": "ae18967a",
   "metadata": {},
   "source": [
    "### Marital"
   ]
  },
  {
   "cell_type": "code",
   "execution_count": 21,
   "id": "9e459ca9",
   "metadata": {},
   "outputs": [
    {
     "data": {
      "text/plain": [
       "0"
      ]
     },
     "execution_count": 21,
     "metadata": {},
     "output_type": "execute_result"
    }
   ],
   "source": [
    "data.marital.isnull().sum()"
   ]
  },
  {
   "cell_type": "code",
   "execution_count": 22,
   "id": "8b1d3508",
   "metadata": {},
   "outputs": [
    {
     "data": {
      "text/plain": [
       "array(['married', 'single', 'divorced'], dtype=object)"
      ]
     },
     "execution_count": 22,
     "metadata": {},
     "output_type": "execute_result"
    }
   ],
   "source": [
    "data.marital.unique()"
   ]
  },
  {
   "cell_type": "markdown",
   "id": "3d508e4c",
   "metadata": {},
   "source": [
    "**No null values and also feature has only three valid Marital status**"
   ]
  },
  {
   "cell_type": "markdown",
   "id": "ccd555eb",
   "metadata": {},
   "source": [
    "### Education_qual"
   ]
  },
  {
   "cell_type": "code",
   "execution_count": 23,
   "id": "c0262a0b",
   "metadata": {},
   "outputs": [
    {
     "data": {
      "text/plain": [
       "0"
      ]
     },
     "execution_count": 23,
     "metadata": {},
     "output_type": "execute_result"
    }
   ],
   "source": [
    "data.education_qual.isnull().sum()"
   ]
  },
  {
   "cell_type": "code",
   "execution_count": 24,
   "id": "a3f7981e",
   "metadata": {},
   "outputs": [
    {
     "data": {
      "text/plain": [
       "array(['tertiary', 'secondary', 'unknown', 'primary'], dtype=object)"
      ]
     },
     "execution_count": 24,
     "metadata": {},
     "output_type": "execute_result"
    }
   ],
   "source": [
    "data.education_qual.unique()"
   ]
  },
  {
   "cell_type": "code",
   "execution_count": 25,
   "id": "0a8c6d60",
   "metadata": {},
   "outputs": [
    {
     "data": {
      "text/plain": [
       "education_qual\n",
       "primary       6851\n",
       "secondary    23202\n",
       "tertiary     13301\n",
       "unknown       1857\n",
       "dtype: int64"
      ]
     },
     "execution_count": 25,
     "metadata": {},
     "output_type": "execute_result"
    }
   ],
   "source": [
    "data.pivot_table(index=['education_qual'],aggfunc='size')"
   ]
  },
  {
   "cell_type": "code",
   "execution_count": 26,
   "id": "13c4080b",
   "metadata": {},
   "outputs": [
    {
     "data": {
      "text/plain": [
       "education_qual\n",
       "primary       6851\n",
       "secondary    25059\n",
       "tertiary     13301\n",
       "dtype: int64"
      ]
     },
     "execution_count": 26,
     "metadata": {},
     "output_type": "execute_result"
    }
   ],
   "source": [
    "#Replacing unknown by mode of the education_qual i.e., secondary.\n",
    "\n",
    "data.education_qual= data.education_qual.replace(\"unknown\", 'secondary')\n",
    "data.pivot_table(index=['education_qual'],aggfunc='size')"
   ]
  },
  {
   "cell_type": "markdown",
   "id": "699d5dea",
   "metadata": {},
   "source": [
    "### call_type"
   ]
  },
  {
   "cell_type": "code",
   "execution_count": 27,
   "id": "c7b3eec3",
   "metadata": {},
   "outputs": [
    {
     "data": {
      "text/plain": [
       "0"
      ]
     },
     "execution_count": 27,
     "metadata": {},
     "output_type": "execute_result"
    }
   ],
   "source": [
    "data.call_type.isnull().sum()"
   ]
  },
  {
   "cell_type": "code",
   "execution_count": 28,
   "id": "6ec40e67",
   "metadata": {},
   "outputs": [
    {
     "data": {
      "text/plain": [
       "array(['unknown', 'cellular', 'telephone'], dtype=object)"
      ]
     },
     "execution_count": 28,
     "metadata": {},
     "output_type": "execute_result"
    }
   ],
   "source": [
    "data.call_type.unique()"
   ]
  },
  {
   "cell_type": "code",
   "execution_count": 29,
   "id": "c49e0543",
   "metadata": {},
   "outputs": [
    {
     "data": {
      "text/plain": [
       "call_type\n",
       "cellular     29285\n",
       "telephone     2906\n",
       "unknown      13020\n",
       "dtype: int64"
      ]
     },
     "execution_count": 29,
     "metadata": {},
     "output_type": "execute_result"
    }
   ],
   "source": [
    "data.pivot_table(index=['call_type'],aggfunc='size')"
   ]
  },
  {
   "cell_type": "markdown",
   "id": "6aab6680",
   "metadata": {},
   "source": [
    "**No null values and also feature has only three valid call_type. Unknown is more 30% hence neither dropping it nor adjusting it**"
   ]
  },
  {
   "cell_type": "markdown",
   "id": "3980e396",
   "metadata": {},
   "source": [
    "### day"
   ]
  },
  {
   "cell_type": "code",
   "execution_count": 30,
   "id": "25ca7e8d",
   "metadata": {},
   "outputs": [
    {
     "data": {
      "text/plain": [
       "0"
      ]
     },
     "execution_count": 30,
     "metadata": {},
     "output_type": "execute_result"
    }
   ],
   "source": [
    "data.day.isnull().sum()"
   ]
  },
  {
   "cell_type": "code",
   "execution_count": 31,
   "id": "9ae23508",
   "metadata": {},
   "outputs": [
    {
     "data": {
      "text/plain": [
       "array([ 5,  6,  7,  8,  9, 12, 13, 14, 15, 16, 19, 20, 21, 23, 26, 27, 28,\n",
       "       29, 30,  2,  3,  4, 11, 17, 18, 24, 25,  1, 10, 22, 31],\n",
       "      dtype=int64)"
      ]
     },
     "execution_count": 31,
     "metadata": {},
     "output_type": "execute_result"
    }
   ],
   "source": [
    "data.day.unique()"
   ]
  },
  {
   "cell_type": "markdown",
   "id": "672761a7",
   "metadata": {},
   "source": [
    "**No null values and also feature has ono outliers. Everything is valid dates**"
   ]
  },
  {
   "cell_type": "markdown",
   "id": "2a35e37d",
   "metadata": {},
   "source": [
    "### mon"
   ]
  },
  {
   "cell_type": "code",
   "execution_count": 32,
   "id": "6b16470d",
   "metadata": {},
   "outputs": [
    {
     "data": {
      "text/plain": [
       "0"
      ]
     },
     "execution_count": 32,
     "metadata": {},
     "output_type": "execute_result"
    }
   ],
   "source": [
    "data.mon.isnull().sum()"
   ]
  },
  {
   "cell_type": "code",
   "execution_count": 33,
   "id": "a85eae94",
   "metadata": {},
   "outputs": [
    {
     "data": {
      "text/plain": [
       "array(['may', 'jun', 'jul', 'aug', 'oct', 'nov', 'dec', 'jan', 'feb',\n",
       "       'mar', 'apr', 'sep'], dtype=object)"
      ]
     },
     "execution_count": 33,
     "metadata": {},
     "output_type": "execute_result"
    }
   ],
   "source": [
    "data.mon.unique()"
   ]
  },
  {
   "cell_type": "markdown",
   "id": "eb323ad7",
   "metadata": {},
   "source": [
    "**No null values and also feature has ono outliers. Everything is valid months**"
   ]
  },
  {
   "cell_type": "markdown",
   "id": "18598266",
   "metadata": {},
   "source": [
    "### dur"
   ]
  },
  {
   "cell_type": "code",
   "execution_count": 34,
   "id": "ad4941f1",
   "metadata": {},
   "outputs": [
    {
     "data": {
      "text/plain": [
       "0    261\n",
       "1    151\n",
       "2     76\n",
       "3     92\n",
       "4    198\n",
       "Name: dur, dtype: int64"
      ]
     },
     "execution_count": 34,
     "metadata": {},
     "output_type": "execute_result"
    }
   ],
   "source": [
    "data.dur.head()"
   ]
  },
  {
   "cell_type": "code",
   "execution_count": 35,
   "id": "2ad398c8",
   "metadata": {},
   "outputs": [
    {
     "data": {
      "text/plain": [
       "0"
      ]
     },
     "execution_count": 35,
     "metadata": {},
     "output_type": "execute_result"
    }
   ],
   "source": [
    "data.dur.isnull().sum()"
   ]
  },
  {
   "cell_type": "markdown",
   "id": "45bdde24",
   "metadata": {},
   "source": [
    "**No null values**"
   ]
  },
  {
   "cell_type": "code",
   "execution_count": 36,
   "id": "e23f2144",
   "metadata": {},
   "outputs": [
    {
     "data": {
      "text/plain": [
       "count    45211.000000\n",
       "mean       258.163080\n",
       "std        257.527812\n",
       "min          0.000000\n",
       "25%        103.000000\n",
       "50%        180.000000\n",
       "75%        319.000000\n",
       "max       4918.000000\n",
       "Name: dur, dtype: float64"
      ]
     },
     "execution_count": 36,
     "metadata": {},
     "output_type": "execute_result"
    }
   ],
   "source": [
    "data.dur.describe()"
   ]
  },
  {
   "cell_type": "code",
   "execution_count": 37,
   "id": "7accce86",
   "metadata": {},
   "outputs": [
    {
     "name": "stdout",
     "output_type": "stream",
     "text": [
      "       age           job  marital education_qual call_type  day  mon  dur  \\\n",
      "6424    53    management  married        primary   unknown   27  may    0   \n",
      "22937   35    technician  married      secondary  cellular   26  aug    0   \n",
      "36425   31  entrepreneur  married      secondary  cellular   11  may    0   \n",
      "\n",
      "       num_calls prev_outcome   y  \n",
      "6424           4      unknown  no  \n",
      "22937         15      unknown  no  \n",
      "36425          2      unknown  no  \n",
      "\n",
      "============================================================================================\n",
      "\n",
      "The number of rows with 0 mins call time: 3\n"
     ]
    }
   ],
   "source": [
    "print(data.loc[data['dur']==0])\n",
    "print('\\n============================================================================================\\n')\n",
    "print(\"The number of rows with 0 mins call time:\",(data['dur']==0).sum())"
   ]
  },
  {
   "cell_type": "markdown",
   "id": "287d1612",
   "metadata": {},
   "source": [
    "**Dropping the records with Call duration as 0**"
   ]
  },
  {
   "cell_type": "code",
   "execution_count": 38,
   "id": "4e7629f3",
   "metadata": {},
   "outputs": [
    {
     "data": {
      "text/plain": [
       "Int64Index([6424, 22937, 36425], dtype='int64')"
      ]
     },
     "execution_count": 38,
     "metadata": {},
     "output_type": "execute_result"
    }
   ],
   "source": [
    "dropIndex=data[data['dur']==0].index\n",
    "dropIndex"
   ]
  },
  {
   "cell_type": "code",
   "execution_count": 39,
   "id": "62b7d44d",
   "metadata": {},
   "outputs": [],
   "source": [
    "data.drop(dropIndex,inplace=True)"
   ]
  },
  {
   "cell_type": "code",
   "execution_count": 40,
   "id": "471878b1",
   "metadata": {},
   "outputs": [
    {
     "name": "stdout",
     "output_type": "stream",
     "text": [
      "The number of rows with 0 mins call time: 0\n"
     ]
    }
   ],
   "source": [
    "print(\"The number of rows with 0 mins call time:\",(data['dur']==0).sum())"
   ]
  },
  {
   "cell_type": "markdown",
   "id": "9507b662",
   "metadata": {},
   "source": [
    "**As seen below there are loads of Outliers. Max is 4918**"
   ]
  },
  {
   "cell_type": "code",
   "execution_count": 41,
   "id": "77c8c16f",
   "metadata": {},
   "outputs": [
    {
     "data": {
      "text/plain": [
       "count    45208.000000\n",
       "mean       258.180211\n",
       "std        257.527769\n",
       "min          1.000000\n",
       "25%        103.000000\n",
       "50%        180.000000\n",
       "75%        319.000000\n",
       "max       4918.000000\n",
       "Name: dur, dtype: float64"
      ]
     },
     "execution_count": 41,
     "metadata": {},
     "output_type": "execute_result"
    }
   ],
   "source": [
    "data.dur.describe()"
   ]
  },
  {
   "cell_type": "code",
   "execution_count": 42,
   "id": "d79b8012",
   "metadata": {},
   "outputs": [
    {
     "name": "stdout",
     "output_type": "stream",
     "text": [
      "dur\n",
      "=====================\n",
      "IQR: 216.0 \n",
      "Lower Limit: -221.0 \n",
      "Upper Limit: 643.0\n"
     ]
    }
   ],
   "source": [
    "# compute interquantile range to calculate the boundaries\n",
    "IQR= data.dur.quantile(0.75) - data.dur.quantile(0.25)\n",
    "lower_bound= data.dur.quantile(0.25) - (1.5*IQR)\n",
    "upper_bound= data.dur.quantile(0.75) + (1.5*IQR)\n",
    "    \n",
    "print('dur\\n=====================\\nIQR:',IQR,'\\nLower Limit:', lower_bound, \"\\nUpper Limit:\",  upper_bound)"
   ]
  },
  {
   "cell_type": "code",
   "execution_count": 43,
   "id": "a5602f77",
   "metadata": {},
   "outputs": [
    {
     "data": {
      "text/plain": [
       "3235"
      ]
     },
     "execution_count": 43,
     "metadata": {},
     "output_type": "execute_result"
    }
   ],
   "source": [
    "sum(data.dur > 643)"
   ]
  },
  {
   "cell_type": "markdown",
   "id": "94615a09",
   "metadata": {},
   "source": [
    "**Replacing all the outliers above 643 to uppper limit of 643**"
   ]
  },
  {
   "cell_type": "code",
   "execution_count": 44,
   "id": "f00da6cb",
   "metadata": {},
   "outputs": [],
   "source": [
    "data.loc[data.dur > 643, 'dur'] = 643"
   ]
  },
  {
   "cell_type": "code",
   "execution_count": 45,
   "id": "86180690",
   "metadata": {},
   "outputs": [
    {
     "data": {
      "text/plain": [
       "0"
      ]
     },
     "execution_count": 45,
     "metadata": {},
     "output_type": "execute_result"
    }
   ],
   "source": [
    "sum(data.dur > 643)"
   ]
  },
  {
   "cell_type": "code",
   "execution_count": 46,
   "id": "37021b99",
   "metadata": {},
   "outputs": [
    {
     "data": {
      "text/plain": [
       "count    45208.000000\n",
       "mean       234.954897\n",
       "std        176.745434\n",
       "min          1.000000\n",
       "25%        103.000000\n",
       "50%        180.000000\n",
       "75%        319.000000\n",
       "max        643.000000\n",
       "Name: dur, dtype: float64"
      ]
     },
     "execution_count": 46,
     "metadata": {},
     "output_type": "execute_result"
    }
   ],
   "source": [
    "data.dur.describe()"
   ]
  },
  {
   "cell_type": "markdown",
   "id": "2fa250ae",
   "metadata": {},
   "source": [
    "### num_calls"
   ]
  },
  {
   "cell_type": "code",
   "execution_count": 47,
   "id": "aeae9d25",
   "metadata": {},
   "outputs": [
    {
     "data": {
      "text/plain": [
       "0"
      ]
     },
     "execution_count": 47,
     "metadata": {},
     "output_type": "execute_result"
    }
   ],
   "source": [
    "data.num_calls.isnull().sum()"
   ]
  },
  {
   "cell_type": "code",
   "execution_count": 48,
   "id": "a99faa62",
   "metadata": {},
   "outputs": [
    {
     "data": {
      "text/plain": [
       "array([ 1,  2,  3,  5,  4,  6,  7,  8,  9, 10, 11, 12, 13, 19, 14, 24, 16,\n",
       "       32, 18, 22, 15, 17, 25, 21, 43, 51, 63, 41, 26, 28, 55, 50, 38, 23,\n",
       "       20, 29, 31, 37, 30, 46, 27, 58, 33, 35, 34, 36, 39, 44],\n",
       "      dtype=int64)"
      ]
     },
     "execution_count": 48,
     "metadata": {},
     "output_type": "execute_result"
    }
   ],
   "source": [
    "data.num_calls.unique()"
   ]
  },
  {
   "cell_type": "code",
   "execution_count": 49,
   "id": "1000c740",
   "metadata": {},
   "outputs": [
    {
     "data": {
      "text/plain": [
       "count    45208.000000\n",
       "mean         2.763560\n",
       "std          3.097582\n",
       "min          1.000000\n",
       "25%          1.000000\n",
       "50%          2.000000\n",
       "75%          3.000000\n",
       "max         63.000000\n",
       "Name: num_calls, dtype: float64"
      ]
     },
     "execution_count": 49,
     "metadata": {},
     "output_type": "execute_result"
    }
   ],
   "source": [
    "data.num_calls.describe()"
   ]
  },
  {
   "cell_type": "code",
   "execution_count": 50,
   "id": "73d12853",
   "metadata": {},
   "outputs": [
    {
     "name": "stdout",
     "output_type": "stream",
     "text": [
      "num_calls\n",
      "=====================\n",
      "IQR: 2.0 \n",
      "Lower Limit: -2.0 \n",
      "Upper Limit: 6.0\n"
     ]
    }
   ],
   "source": [
    "# compute interquantile range to calculate the boundaries\n",
    "IQR= data.num_calls.quantile(0.75) - data.num_calls.quantile(0.25)\n",
    "lower_bound= data.num_calls.quantile(0.25) - (1.5*IQR)\n",
    "upper_bound= data.num_calls.quantile(0.75) + (1.5*IQR)\n",
    "    \n",
    "print('num_calls\\n=====================\\nIQR:',IQR,'\\nLower Limit:', lower_bound, \"\\nUpper Limit:\",  upper_bound)"
   ]
  },
  {
   "cell_type": "code",
   "execution_count": 51,
   "id": "ab9e3b2b",
   "metadata": {},
   "outputs": [
    {
     "name": "stdout",
     "output_type": "stream",
     "text": [
      "The number of rows with more than 6 calls:  3063\n"
     ]
    }
   ],
   "source": [
    "print('The number of rows with more than 6 calls: ', sum(data.num_calls > 6))"
   ]
  },
  {
   "cell_type": "markdown",
   "id": "2447d771",
   "metadata": {},
   "source": [
    "**Replacing all the outliers above 6 to uppper limit of 6**"
   ]
  },
  {
   "cell_type": "code",
   "execution_count": 52,
   "id": "5cdcbaed",
   "metadata": {},
   "outputs": [],
   "source": [
    "data.loc[data.num_calls > 6,'num_calls'] = 6"
   ]
  },
  {
   "cell_type": "code",
   "execution_count": 53,
   "id": "d9d001bf",
   "metadata": {},
   "outputs": [
    {
     "name": "stdout",
     "output_type": "stream",
     "text": [
      "The number of rows with more than 6 calls:  0\n"
     ]
    }
   ],
   "source": [
    "print('The number of rows with more than 6 calls: ', sum(data.num_calls > 6))"
   ]
  },
  {
   "cell_type": "code",
   "execution_count": 54,
   "id": "a632d64c",
   "metadata": {},
   "outputs": [
    {
     "data": {
      "text/plain": [
       "count    45208.000000\n",
       "mean         2.392121\n",
       "std          1.600055\n",
       "min          1.000000\n",
       "25%          1.000000\n",
       "50%          2.000000\n",
       "75%          3.000000\n",
       "max          6.000000\n",
       "Name: num_calls, dtype: float64"
      ]
     },
     "execution_count": 54,
     "metadata": {},
     "output_type": "execute_result"
    }
   ],
   "source": [
    "data.num_calls.describe()"
   ]
  },
  {
   "cell_type": "markdown",
   "id": "b266ec1e",
   "metadata": {},
   "source": [
    "### prev_outcome"
   ]
  },
  {
   "cell_type": "code",
   "execution_count": 55,
   "id": "13411516",
   "metadata": {},
   "outputs": [
    {
     "data": {
      "text/plain": [
       "0"
      ]
     },
     "execution_count": 55,
     "metadata": {},
     "output_type": "execute_result"
    }
   ],
   "source": [
    "data.prev_outcome.isnull().sum()"
   ]
  },
  {
   "cell_type": "code",
   "execution_count": 56,
   "id": "04e4602e",
   "metadata": {},
   "outputs": [
    {
     "data": {
      "text/plain": [
       "array(['unknown', 'failure', 'other', 'success'], dtype=object)"
      ]
     },
     "execution_count": 56,
     "metadata": {},
     "output_type": "execute_result"
    }
   ],
   "source": [
    "data.prev_outcome.unique()"
   ]
  },
  {
   "cell_type": "code",
   "execution_count": 57,
   "id": "278b87f5",
   "metadata": {},
   "outputs": [
    {
     "data": {
      "text/plain": [
       "prev_outcome\n",
       "failure     4901\n",
       "other       1840\n",
       "success     1511\n",
       "unknown    36956\n",
       "dtype: int64"
      ]
     },
     "execution_count": 57,
     "metadata": {},
     "output_type": "execute_result"
    }
   ],
   "source": [
    "data.pivot_table(index=['prev_outcome'],aggfunc='size')"
   ]
  },
  {
   "cell_type": "markdown",
   "id": "fd811d62",
   "metadata": {},
   "source": [
    "**No nulls values and feature has valid data. As unknows is almost 90%, I am neither replacing it not dropping it**"
   ]
  },
  {
   "cell_type": "markdown",
   "id": "abdebf02",
   "metadata": {},
   "source": [
    "### y"
   ]
  },
  {
   "cell_type": "code",
   "execution_count": 58,
   "id": "49cd2003",
   "metadata": {},
   "outputs": [
    {
     "data": {
      "text/plain": [
       "0"
      ]
     },
     "execution_count": 58,
     "metadata": {},
     "output_type": "execute_result"
    }
   ],
   "source": [
    "data.y.isnull().sum()"
   ]
  },
  {
   "cell_type": "code",
   "execution_count": 59,
   "id": "e4340fe2",
   "metadata": {},
   "outputs": [
    {
     "data": {
      "text/plain": [
       "array(['no', 'yes'], dtype=object)"
      ]
     },
     "execution_count": 59,
     "metadata": {},
     "output_type": "execute_result"
    }
   ],
   "source": [
    "data.y.unique()"
   ]
  },
  {
   "cell_type": "code",
   "execution_count": 60,
   "id": "769d39ab",
   "metadata": {},
   "outputs": [
    {
     "data": {
      "text/plain": [
       "y\n",
       "no     39919\n",
       "yes     5289\n",
       "dtype: int64"
      ]
     },
     "execution_count": 60,
     "metadata": {},
     "output_type": "execute_result"
    }
   ],
   "source": [
    "data.pivot_table(index=['y'],aggfunc='size')"
   ]
  },
  {
   "cell_type": "code",
   "execution_count": 61,
   "id": "dadadc9e",
   "metadata": {},
   "outputs": [
    {
     "name": "stdout",
     "output_type": "stream",
     "text": [
      "The successful Insurance holders from the given data is: 11.699256768713502\n"
     ]
    }
   ],
   "source": [
    "print('The successful Insurance holders from the given data is:', ((sum(data.y == 'yes')/(data.shape[0]))*100))"
   ]
  },
  {
   "cell_type": "markdown",
   "id": "4163c18f",
   "metadata": {},
   "source": [
    "**No nulls values. But the Target 'y' has Imbalanced data. Just 11% are customer with 'y' . Rest 89% are customer with 'n'. Hence This data needs to be Resampled. I will be resampling it using SMOTE(Synthetic Minority Oversampling Technique) after encoding the categorical features.**"
   ]
  },
  {
   "cell_type": "markdown",
   "id": "e0f05d27",
   "metadata": {},
   "source": [
    "# 4.Encoding"
   ]
  },
  {
   "cell_type": "markdown",
   "id": "10abc0a9",
   "metadata": {},
   "source": [
    "**Encoding the categorical features.**"
   ]
  },
  {
   "cell_type": "code",
   "execution_count": 62,
   "id": "8dfc318e",
   "metadata": {},
   "outputs": [
    {
     "name": "stdout",
     "output_type": "stream",
     "text": [
      "['job', 'marital', 'education_qual', 'call_type', 'mon', 'prev_outcome', 'y']\n"
     ]
    }
   ],
   "source": [
    "print(cat_var)"
   ]
  },
  {
   "cell_type": "code",
   "execution_count": 63,
   "id": "a5d2f7c1",
   "metadata": {},
   "outputs": [
    {
     "data": {
      "text/plain": [
       "array([ 8,  5,  2,  1,  9, 10,  7,  4,  6,  3, 11], dtype=int64)"
      ]
     },
     "execution_count": 63,
     "metadata": {},
     "output_type": "execute_result"
    }
   ],
   "source": [
    "## Encode labels in column 'job'\n",
    "data.job = data.job.map({'blue-collar':1, 'entrepreneur':2, 'housemaid':3, 'services':4, 'technician':5, 'self-employed':6, 'admin.':7, 'management':8, 'unemployed':9, 'retired':10, 'student':11})\n",
    "data.job.unique()"
   ]
  },
  {
   "cell_type": "code",
   "execution_count": 64,
   "id": "1f64dfc5",
   "metadata": {},
   "outputs": [
    {
     "data": {
      "text/plain": [
       "array([1, 0, 2], dtype=int64)"
      ]
     },
     "execution_count": 64,
     "metadata": {},
     "output_type": "execute_result"
    }
   ],
   "source": [
    "## Encode labels in column 'marital'\n",
    "data.marital=data.marital.map({'single':0,'married':1,'divorced':2})\n",
    "data.marital.unique()"
   ]
  },
  {
   "cell_type": "code",
   "execution_count": 65,
   "id": "ab8c30ab",
   "metadata": {},
   "outputs": [
    {
     "data": {
      "text/plain": [
       "array([3, 2, 1], dtype=int64)"
      ]
     },
     "execution_count": 65,
     "metadata": {},
     "output_type": "execute_result"
    }
   ],
   "source": [
    "## Encode labels in column 'education_qual'\n",
    "data.education_qual=data.education_qual.map({'primary':1,'secondary':2,'tertiary':3})\n",
    "data.education_qual.unique()"
   ]
  },
  {
   "cell_type": "code",
   "execution_count": 66,
   "id": "904971e9",
   "metadata": {},
   "outputs": [
    {
     "data": {
      "text/plain": [
       "array([1, 3, 2], dtype=int64)"
      ]
     },
     "execution_count": 66,
     "metadata": {},
     "output_type": "execute_result"
    }
   ],
   "source": [
    "## Encode labels in column 'call_type'\n",
    "data.call_type=data.call_type.map({'unknown':1,'telephone':2,'cellular':3})\n",
    "data.call_type.unique()"
   ]
  },
  {
   "cell_type": "code",
   "execution_count": 67,
   "id": "9c259fda",
   "metadata": {},
   "outputs": [
    {
     "data": {
      "text/plain": [
       "array([ 5,  6,  7,  8, 10, 11, 12,  1,  2,  3,  4,  9], dtype=int64)"
      ]
     },
     "execution_count": 67,
     "metadata": {},
     "output_type": "execute_result"
    }
   ],
   "source": [
    "## Encode labels in column 'mon'\n",
    "data.mon=data.mon.map({'jan':1, 'feb':2, 'mar':3, 'apr':4, 'may':5, 'jun':6, 'jul':7, 'aug':8, 'sep':9, 'oct':10, 'nov':11, 'dec':12})\n",
    "data.mon.unique()"
   ]
  },
  {
   "cell_type": "code",
   "execution_count": 68,
   "id": "9b2da8c8",
   "metadata": {},
   "outputs": [
    {
     "data": {
      "text/plain": [
       "array([1, 2, 3, 4], dtype=int64)"
      ]
     },
     "execution_count": 68,
     "metadata": {},
     "output_type": "execute_result"
    }
   ],
   "source": [
    "## Encode labels in column 'prev_outcome'\n",
    "data.prev_outcome=data.prev_outcome.map({'unknown':1,'failure':2,'other':3,'success':4})\n",
    "data.prev_outcome.unique()"
   ]
  },
  {
   "cell_type": "code",
   "execution_count": 69,
   "id": "2b7f580f",
   "metadata": {},
   "outputs": [
    {
     "data": {
      "text/plain": [
       "array([0, 1], dtype=int64)"
      ]
     },
     "execution_count": 69,
     "metadata": {},
     "output_type": "execute_result"
    }
   ],
   "source": [
    "## Encode labels in column 'y'\n",
    "data.y=data.y.map({'no':0,'yes':1})\n",
    "data.y.unique()"
   ]
  },
  {
   "cell_type": "code",
   "execution_count": 70,
   "id": "39c2f832",
   "metadata": {},
   "outputs": [
    {
     "data": {
      "text/html": [
       "<div>\n",
       "<style scoped>\n",
       "    .dataframe tbody tr th:only-of-type {\n",
       "        vertical-align: middle;\n",
       "    }\n",
       "\n",
       "    .dataframe tbody tr th {\n",
       "        vertical-align: top;\n",
       "    }\n",
       "\n",
       "    .dataframe thead th {\n",
       "        text-align: right;\n",
       "    }\n",
       "</style>\n",
       "<table border=\"1\" class=\"dataframe\">\n",
       "  <thead>\n",
       "    <tr style=\"text-align: right;\">\n",
       "      <th></th>\n",
       "      <th>age</th>\n",
       "      <th>job</th>\n",
       "      <th>marital</th>\n",
       "      <th>education_qual</th>\n",
       "      <th>call_type</th>\n",
       "      <th>day</th>\n",
       "      <th>mon</th>\n",
       "      <th>dur</th>\n",
       "      <th>num_calls</th>\n",
       "      <th>prev_outcome</th>\n",
       "      <th>y</th>\n",
       "    </tr>\n",
       "  </thead>\n",
       "  <tbody>\n",
       "    <tr>\n",
       "      <th>0</th>\n",
       "      <td>58</td>\n",
       "      <td>8</td>\n",
       "      <td>1</td>\n",
       "      <td>3</td>\n",
       "      <td>1</td>\n",
       "      <td>5</td>\n",
       "      <td>5</td>\n",
       "      <td>261</td>\n",
       "      <td>1</td>\n",
       "      <td>1</td>\n",
       "      <td>0</td>\n",
       "    </tr>\n",
       "    <tr>\n",
       "      <th>1</th>\n",
       "      <td>44</td>\n",
       "      <td>5</td>\n",
       "      <td>0</td>\n",
       "      <td>2</td>\n",
       "      <td>1</td>\n",
       "      <td>5</td>\n",
       "      <td>5</td>\n",
       "      <td>151</td>\n",
       "      <td>1</td>\n",
       "      <td>1</td>\n",
       "      <td>0</td>\n",
       "    </tr>\n",
       "    <tr>\n",
       "      <th>2</th>\n",
       "      <td>33</td>\n",
       "      <td>2</td>\n",
       "      <td>1</td>\n",
       "      <td>2</td>\n",
       "      <td>1</td>\n",
       "      <td>5</td>\n",
       "      <td>5</td>\n",
       "      <td>76</td>\n",
       "      <td>1</td>\n",
       "      <td>1</td>\n",
       "      <td>0</td>\n",
       "    </tr>\n",
       "    <tr>\n",
       "      <th>3</th>\n",
       "      <td>47</td>\n",
       "      <td>1</td>\n",
       "      <td>1</td>\n",
       "      <td>2</td>\n",
       "      <td>1</td>\n",
       "      <td>5</td>\n",
       "      <td>5</td>\n",
       "      <td>92</td>\n",
       "      <td>1</td>\n",
       "      <td>1</td>\n",
       "      <td>0</td>\n",
       "    </tr>\n",
       "    <tr>\n",
       "      <th>4</th>\n",
       "      <td>33</td>\n",
       "      <td>9</td>\n",
       "      <td>0</td>\n",
       "      <td>2</td>\n",
       "      <td>1</td>\n",
       "      <td>5</td>\n",
       "      <td>5</td>\n",
       "      <td>198</td>\n",
       "      <td>1</td>\n",
       "      <td>1</td>\n",
       "      <td>0</td>\n",
       "    </tr>\n",
       "  </tbody>\n",
       "</table>\n",
       "</div>"
      ],
      "text/plain": [
       "   age  job  marital  education_qual  call_type  day  mon  dur  num_calls  \\\n",
       "0   58    8        1               3          1    5    5  261          1   \n",
       "1   44    5        0               2          1    5    5  151          1   \n",
       "2   33    2        1               2          1    5    5   76          1   \n",
       "3   47    1        1               2          1    5    5   92          1   \n",
       "4   33    9        0               2          1    5    5  198          1   \n",
       "\n",
       "   prev_outcome  y  \n",
       "0             1  0  \n",
       "1             1  0  \n",
       "2             1  0  \n",
       "3             1  0  \n",
       "4             1  0  "
      ]
     },
     "execution_count": 70,
     "metadata": {},
     "output_type": "execute_result"
    }
   ],
   "source": [
    "data.head()"
   ]
  },
  {
   "cell_type": "code",
   "execution_count": 71,
   "id": "e9f01aa6",
   "metadata": {},
   "outputs": [
    {
     "data": {
      "text/plain": [
       "<AxesSubplot:>"
      ]
     },
     "execution_count": 71,
     "metadata": {},
     "output_type": "execute_result"
    },
    {
     "data": {
      "image/png": "[encoded data removed]",
      "text/plain": [
       "<Figure size 2500x1500 with 2 Axes>"
      ]
     },
     "metadata": {},
     "output_type": "display_data"
    }
   ],
   "source": [
    "plt.figure(figsize=(25,15))\n",
    "sns.heatmap(data.corr(), annot=True)"
   ]
  },
  {
   "cell_type": "markdown",
   "id": "516178ce",
   "metadata": {},
   "source": [
    "### Machine Learning Models before Oversampling the Imbalance data"
   ]
  },
  {
   "cell_type": "code",
   "execution_count": 72,
   "id": "a49c780d",
   "metadata": {},
   "outputs": [],
   "source": [
    "from sklearn.model_selection import train_test_split\n",
    "\n",
    "X= data.drop(['y'],axis=1)\n",
    "y= data['y']\n",
    "\n",
    "X_train, X_test, y_train, y_test = train_test_split(X, y, test_size=0.3, random_state=42)"
   ]
  },
  {
   "cell_type": "markdown",
   "id": "22639810",
   "metadata": {},
   "source": [
    "### Logistic Regression"
   ]
  },
  {
   "cell_type": "code",
   "execution_count": 73,
   "id": "828fb45c",
   "metadata": {},
   "outputs": [
    {
     "name": "stdout",
     "output_type": "stream",
     "text": [
      "The accuracy of Logistic Regression is      :  88.82990488829905 %\n",
      "The AUR ROC score of Logistic Regression is :  0.8362507906682295 %\n"
     ]
    }
   ],
   "source": [
    "from sklearn.linear_model import LogisticRegression\n",
    "from sklearn.metrics import accuracy_score\n",
    "from sklearn.metrics import roc_auc_score,confusion_matrix\n",
    "\n",
    "model_logistic = LogisticRegression()\n",
    "model_logistic.fit(X_train,y_train)\n",
    "\n",
    "y_pred_model_logistic = model_logistic.predict(X_test)\n",
    "y_prob_model_logistic = model_logistic.predict_proba(X_test)\n",
    "\n",
    "accuracy_logistic = accuracy_score(y_test, y_pred_model_logistic)*100\n",
    "print (\"The accuracy of Logistic Regression is      : \",accuracy_logistic , \"%\")\n",
    "\n",
    "auroc_logistic = roc_auc_score(y_test, y_prob_model_logistic[:, 1])\n",
    "print (\"The AUR ROC score of Logistic Regression is : \", auroc_logistic, '%')"
   ]
  },
  {
   "cell_type": "markdown",
   "id": "5ebf8f57",
   "metadata": {},
   "source": [
    "### Random Forest"
   ]
  },
  {
   "cell_type": "code",
   "execution_count": 74,
   "id": "64f248c8",
   "metadata": {},
   "outputs": [
    {
     "name": "stdout",
     "output_type": "stream",
     "text": [
      "The accuracy of Random Forest is           :  90.08331490083314 %\n",
      "The AUR ROC score of  random forest is     :  0.9197798237931788 %\n"
     ]
    }
   ],
   "source": [
    "from sklearn.ensemble import RandomForestClassifier\n",
    "\n",
    "model_rf = RandomForestClassifier(n_estimators = 100, random_state = 0)  \n",
    "model_rf.fit(X_train, y_train)  \n",
    "\n",
    "y_pred_model_rf = model_rf.predict(X_test)\n",
    "y_prob_model_rf = model_rf.predict_proba(X_test)\n",
    "\n",
    "accuracy_model_rf = accuracy_score(y_test, y_pred_model_rf)*100\n",
    "print(\"The accuracy of Random Forest is           : \", accuracy_model_rf, \"%\")\n",
    "\n",
    "auroc_model_rf = roc_auc_score(y_test, y_prob_model_rf[:,1])\n",
    "print (\"The AUR ROC score of  random forest is     : \", auroc_model_rf,'%')"
   ]
  },
  {
   "cell_type": "markdown",
   "id": "6865fe22",
   "metadata": {},
   "source": [
    "### XGBoost"
   ]
  },
  {
   "cell_type": "code",
   "execution_count": 75,
   "id": "6ed0699b",
   "metadata": {},
   "outputs": [
    {
     "name": "stdout",
     "output_type": "stream",
     "text": [
      "The accuracy of XGBoost is           :  90.41509990415099 %\n",
      "The AUR ROC score of  XGboost is     :  0.924343021752073 %\n"
     ]
    }
   ],
   "source": [
    "import xgboost as xgb\n",
    "\n",
    "model_xgb = xgb.XGBClassifier()\n",
    "model_xgb.fit(X_train, y_train)\n",
    "\n",
    "y_pred_model_xgb = model_xgb.predict(X_test)\n",
    "y_prob_model_xgb = model_xgb.predict_proba(X_test)\n",
    "\n",
    "accuracy_model_xgb = accuracy_score(y_test,y_pred_model_xgb)*100\n",
    "print(\"The accuracy of XGBoost is           : \", accuracy_model_xgb, \"%\")\n",
    "\n",
    "auroc_model_xgb = roc_auc_score(y_test,y_prob_model_xgb[:,1])\n",
    "print (\"The AUR ROC score of  XGboost is     : \", auroc_model_xgb,'%')"
   ]
  },
  {
   "cell_type": "markdown",
   "id": "77156fd1",
   "metadata": {},
   "source": [
    "**As seen the AUR ROC of Logistic Regression, Random Forest and XGBoost everything is very less. This is due to Imbalance data. I will be using the SMOTE technique to Oversample the data to make it evenly distributed.**"
   ]
  },
  {
   "cell_type": "markdown",
   "id": "352257b1",
   "metadata": {},
   "source": [
    "### SMOTE Oversampling we are using because to imbalance data."
   ]
  },
  {
   "cell_type": "markdown",
   "id": "bb99d757",
   "metadata": {},
   "source": [
    "**Separating independent and dependent variables**"
   ]
  },
  {
   "cell_type": "code",
   "execution_count": 76,
   "id": "b14a377d",
   "metadata": {},
   "outputs": [],
   "source": [
    "p= data.drop(['y'],axis=1)\n",
    "q= data['y']"
   ]
  },
  {
   "cell_type": "code",
   "execution_count": 77,
   "id": "e13ee29e",
   "metadata": {},
   "outputs": [
    {
     "name": "stdout",
     "output_type": "stream",
     "text": [
      "0    39531\n",
      "1    29551\n",
      "Name: y, dtype: int64\n",
      "**********************************************************************************\n",
      "   age  job  marital  education_qual  call_type  day  mon  dur  num_calls  \\\n",
      "0   58    8        1               3          1    5    5  261          1   \n",
      "1   44    5        0               2          1    5    5  151          1   \n",
      "2   33    2        1               2          1    5    5   76          1   \n",
      "3   47    1        1               2          1    5    5   92          1   \n",
      "4   33    9        0               2          1    5    5  198          1   \n",
      "\n",
      "   prev_outcome  \n",
      "0             1  \n",
      "1             1  \n",
      "2             1  \n",
      "3             1  \n",
      "4             1  \n"
     ]
    }
   ],
   "source": [
    "from imblearn.combine import SMOTETomek\n",
    "\n",
    "# Define the SMOTETomek object with a 0.75 sampling strategy\n",
    "smote_tomek = SMOTETomek(sampling_strategy=0.75)\n",
    "\n",
    "# Apply SMOTETomek oversampling to the training data\n",
    "X, y = smote_tomek.fit_resample(p, q)\n",
    "\n",
    "# Check the class distribution of the resampled data\n",
    "print(y.value_counts())\n",
    "print('**********************************************************************************')\n",
    "print(X.head())"
   ]
  },
  {
   "cell_type": "markdown",
   "id": "1fd149a1",
   "metadata": {},
   "source": [
    "**Splitting resampled data in train and test data**"
   ]
  },
  {
   "cell_type": "code",
   "execution_count": 78,
   "id": "7b6ca942",
   "metadata": {},
   "outputs": [],
   "source": [
    "from sklearn.model_selection import train_test_split\n",
    "\n",
    "X_train, X_test, y_train, y_test = train_test_split(X, y, test_size=0.3, random_state=42)"
   ]
  },
  {
   "cell_type": "markdown",
   "id": "d00c3963",
   "metadata": {},
   "source": [
    "**Scaling the data using StandardScaler**"
   ]
  },
  {
   "cell_type": "code",
   "execution_count": 79,
   "id": "e29953dc",
   "metadata": {},
   "outputs": [],
   "source": [
    "from sklearn.preprocessing import StandardScaler\n",
    "\n",
    "scaler = StandardScaler()\n",
    "X_train = scaler.fit_transform(X_train)\n",
    "X_test = scaler.transform(X_test)"
   ]
  },
  {
   "cell_type": "markdown",
   "id": "9bd388d1",
   "metadata": {},
   "source": [
    "### Machine Learning Models after SMOTE"
   ]
  },
  {
   "cell_type": "markdown",
   "id": "bd3a142c",
   "metadata": {},
   "source": [
    "### Logistic Regression"
   ]
  },
  {
   "cell_type": "code",
   "execution_count": 80,
   "id": "555153fd",
   "metadata": {},
   "outputs": [
    {
     "name": "stdout",
     "output_type": "stream",
     "text": [
      "The accuracy of Logistic Regression is      :  79.64776839565741 %\n",
      "The AUR ROC score of Logistic Regression is :  0.8793740065657627 %\n"
     ]
    }
   ],
   "source": [
    "from sklearn.linear_model import LogisticRegression\n",
    "from sklearn.metrics import accuracy_score\n",
    "from sklearn.metrics import roc_auc_score,confusion_matrix\n",
    "\n",
    "model_logistic = LogisticRegression()\n",
    "model_logistic.fit(X_train,y_train)\n",
    "\n",
    "y_pred_model_lr = model_logistic.predict(X_test)\n",
    "y_prob_model_lr = model_logistic.predict_proba(X_test)\n",
    "\n",
    "accuracy_model_lr = accuracy_score(y_test, y_pred_model_lr)*100\n",
    "print (\"The accuracy of Logistic Regression is      : \",accuracy_model_lr , \"%\")\n",
    "\n",
    "auroc_model_lr = roc_auc_score(y_test, y_prob_model_lr[:, 1])\n",
    "print (\"The AUR ROC score of Logistic Regression is : \", auroc_model_lr, '%')"
   ]
  },
  {
   "cell_type": "markdown",
   "id": "bd873f58",
   "metadata": {},
   "source": [
    "### Random Forest"
   ]
  },
  {
   "cell_type": "code",
   "execution_count": 81,
   "id": "c54a92af",
   "metadata": {},
   "outputs": [
    {
     "name": "stdout",
     "output_type": "stream",
     "text": [
      "The accuracy of Random Forest is           :  91.4692400482509 %\n",
      "The AUR ROC score of  random forest is     :  0.9737658324168146 %\n"
     ]
    }
   ],
   "source": [
    "from sklearn.ensemble import RandomForestClassifier\n",
    "\n",
    "model_rf = RandomForestClassifier(n_estimators = 100, random_state = 0)  \n",
    "model_rf.fit(X_train, y_train)  \n",
    "\n",
    "y_pred_model_rf = model_rf.predict(X_test)\n",
    "y_prob_model_rf = model_rf.predict_proba(X_test)\n",
    "\n",
    "accuracy_model_rf = accuracy_score(y_test, y_pred_model_rf)*100\n",
    "print(\"The accuracy of Random Forest is           : \", accuracy_model_rf, \"%\")\n",
    "\n",
    "auroc_model_rf = roc_auc_score(y_test, y_prob_model_rf[:,1])\n",
    "print (\"The AUR ROC score of  random forest is     : \", auroc_model_rf,'%')"
   ]
  },
  {
   "cell_type": "markdown",
   "id": "c5988394",
   "metadata": {},
   "source": [
    "### XGBoost"
   ]
  },
  {
   "cell_type": "code",
   "execution_count": 82,
   "id": "09077fcc",
   "metadata": {},
   "outputs": [
    {
     "name": "stdout",
     "output_type": "stream",
     "text": [
      "The accuracy of XGBoost is           :  90.04583835946924 %\n",
      "The AUR ROC score of  XGboost is     :  0.9608174301114746 %\n"
     ]
    }
   ],
   "source": [
    "import xgboost as xgb\n",
    "\n",
    "model_xgb = xgb.XGBClassifier()\n",
    "model_xgb.fit(X_train, y_train)\n",
    "\n",
    "y_pred_model_xgb = model_xgb.predict(X_test)\n",
    "y_prob_model_xgb = model_xgb.predict_proba(X_test)\n",
    "\n",
    "accuracy_model_xgb = accuracy_score(y_test,y_pred_model_xgb)*100\n",
    "print(\"The accuracy of XGBoost is           : \", accuracy_model_xgb, \"%\")\n",
    "\n",
    "auroc_model_xgb = roc_auc_score(y_test,y_prob_model_xgb[:,1])\n",
    "print (\"The AUR ROC score of  XGboost is     : \", auroc_model_xgb,'%')"
   ]
  },
  {
   "cell_type": "code",
   "execution_count": 83,
   "id": "031c5f80",
   "metadata": {},
   "outputs": [
    {
     "data": {
      "image/png": "[encoded data removed]",
      "text/plain": [
       "<Figure size 640x480 with 1 Axes>"
      ]
     },
     "metadata": {},
     "output_type": "display_data"
    }
   ],
   "source": [
    "from sklearn.metrics import roc_curve\n",
    "\n",
    "lr_fpr, lr_tpr, _ = roc_curve(y_test, y_prob_model_lr[:,1])\n",
    "rf_fpr, rf_tpr, _ = roc_curve(y_test, y_prob_model_rf[:,1])\n",
    "xg_fpr, xg_tpr, _ = roc_curve(y_test, y_prob_model_xgb[:,1])\n",
    "\n",
    "# Plot ROC curves\n",
    "plt.plot(lr_fpr, lr_tpr, label=f'Logistic Regression (AUROC = {auroc_model_lr:.2f})')\n",
    "plt.plot(xg_fpr, xg_tpr, label=f'XGBoost (AUROC = {auroc_model_xgb:.2f})')\n",
    "plt.plot(rf_fpr, rf_tpr, label=f'Decision Tree (AUROC = {auroc_model_rf:.2f})')\n",
    "plt.plot([0, 1], [0, 1], 'k--')\n",
    "plt.xlabel('False Positive Rate')\n",
    "plt.ylabel('True Positive Rate')\n",
    "plt.title('Receiver Operating Characteristic (ROC) Curve')\n",
    "plt.legend()\n",
    "plt.show()"
   ]
  },
  {
   "cell_type": "markdown",
   "id": "707371aa",
   "metadata": {},
   "source": [
    "**As seen now,  the AUR ROC of Logistic Regression, Random Forest and XGBoost everything has improved drastically. Also, it can be seen clearly that, based on the Historical data, Decision Tree with AUR ROC of 0.97 is best suited for this Model. We can implement Decision Tree to predict the customer who is most likely to purchase the Insurance.**\n",
    "\n"
   ]
  },
  {
   "cell_type": "markdown",
   "id": "4a83fa65",
   "metadata": {},
   "source": [
    "### Finding the feature importance for features using Random Forest Model"
   ]
  },
  {
   "cell_type": "code",
   "execution_count": 84,
   "id": "685d3a73",
   "metadata": {},
   "outputs": [
    {
     "name": "stdout",
     "output_type": "stream",
     "text": [
      "Feature: age, Score: 0.11022690871229186\n",
      "Feature: job, Score: 0.06328982315547538\n",
      "Feature: marital, Score: 0.036226353247860714\n",
      "Feature: education_qual, Score: 0.0221072117769343\n",
      "Feature: call_type, Score: 0.06017276721799875\n",
      "Feature: day, Score: 0.11125408243965121\n",
      "Feature: mon, Score: 0.10857145288332339\n",
      "Feature: dur, Score: 0.38127285321340393\n",
      "Feature: num_calls, Score: 0.051156696191738495\n",
      "Feature: prev_outcome, Score: 0.05572185116132212\n"
     ]
    }
   ],
   "source": [
    "# Random forest for feature importance on a classification problem\n",
    "feature_names = list(data.columns)\n",
    "if 'y' in feature_names:\n",
    "    feature_names.remove('y')\n",
    "    \n",
    "# get importance\n",
    "importance = model_rf.feature_importances_\n",
    "\n",
    "# feature importance\n",
    "imp=[]\n",
    "for i,v in enumerate(importance):\n",
    "    imp.append(v)\n",
    "\n",
    "# Printing the feature and it's importance score\n",
    "for i in range (0,len(importance)):\n",
    "    print(f'Feature: {feature_names[i]}, Score: {imp[i]}')"
   ]
  },
  {
   "cell_type": "markdown",
   "id": "79a4b79e",
   "metadata": {},
   "source": [
    "**As seen above, feature 'dur' is most important with 0.38. So spending more call time with customer is more likely to turn into Successfull Insurance customer. Apart from 'dur' feature, even the features like 'day' of the call, 'age' of the customer, 'mon' of the call are also next importance features.**"
   ]
  }
 ],
 "metadata": {
  "kernelspec": {
   "display_name": "Python 3 (ipykernel)",
   "language": "python",
   "name": "python3"
  },
  "language_info": {
   "codemirror_mode": {
    "name": "ipython",
    "version": 3
   },
   "file_extension": ".py",
   "mimetype": "text/x-python",
   "name": "python",
   "nbconvert_exporter": "python",
   "pygments_lexer": "ipython3",
   "version": "3.9.13"
  }
 },
 "nbformat": 4,
 "nbformat_minor": 5
}
